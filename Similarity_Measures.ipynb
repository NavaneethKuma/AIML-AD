{
 "cells": [
  {
   "cell_type": "code",
   "execution_count": 17,
   "metadata": {},
   "outputs": [],
   "source": [
    "import numpy as np\n",
    "import pandas as pd\n",
    "from scipy.spatial.distance import cosine,euclidean\n",
    "from scipy.stats import pearsonr"
   ]
  },
  {
   "cell_type": "code",
   "execution_count": 2,
   "metadata": {},
   "outputs": [],
   "source": [
    "# Sample user rating data on a scale of 5\n",
    "user1=np.array([4,5,2,3,4])\n",
    "user2=np.array([5,3,2,4,5])\n"
   ]
  },
  {
   "cell_type": "code",
   "execution_count": 3,
   "metadata": {},
   "outputs": [
    {
     "name": "stdout",
     "output_type": "stream",
     "text": [
      "Cosine Similary:0.9548\n"
     ]
    }
   ],
   "source": [
    "# 1.Cosine similarity; (1 - cosine distance) gives similarity\n",
    "cosine_similarity=1 - cosine(user1,user2)\n",
    "print(f\"Cosine Similary:{cosine_similarity:.4f}\")"
   ]
  },
  {
   "cell_type": "code",
   "execution_count": 4,
   "metadata": {},
   "outputs": [
    {
     "name": "stdout",
     "output_type": "stream",
     "text": [
      "Pearson Correlation Similary:0.4372\n"
     ]
    }
   ],
   "source": [
    "# 2.Pearson Correlation Similarity which returns correlation coefficent\n",
    "pearson_corr,_=  pearsonr(user1,user2)\n",
    "print(f\"Pearson Correlation Similary:{pearson_corr:.4f}\")"
   ]
  },
  {
   "cell_type": "code",
   "execution_count": 5,
   "metadata": {},
   "outputs": [
    {
     "name": "stdout",
     "output_type": "stream",
     "text": [
      "Euclidean Distance Similary:0.2743\n"
     ]
    }
   ],
   "source": [
    "# 3.Euclidean Distance Similarity\n",
    "euclidean_distance = euclidean(user1,user2)\n",
    "\n",
    "# Normalize to similarity range[0,1]\n",
    "euclidean_similarity = 1/(1+ euclidean_distance)\n",
    "print(f\"Euclidean Distance Similary:{euclidean_similarity:.4f}\")"
   ]
  },
  {
   "cell_type": "code",
   "execution_count": 11,
   "metadata": {},
   "outputs": [
    {
     "name": "stdout",
     "output_type": "stream",
     "text": [
      "Cosine Similary:0.9297\n",
      "Pearson Correlation Similary:0.1961\n",
      "Euclidean Distance Similary:0.2109\n"
     ]
    }
   ],
   "source": [
    "Raju=np.array([5,3,4,4,2])\n",
    "John=np.array([3,1,2,3,3])\n",
    "\n",
    "cosine_similarity=1 - cosine(Raju,John)\n",
    "print(f\"Cosine Similary:{cosine_similarity:.4f}\")\n",
    "\n",
    "pearson_corr,_=  pearsonr(Raju,John)\n",
    "print(f\"Pearson Correlation Similary:{pearson_corr:.4f}\")\n",
    "\n",
    "euclidean_distance = euclidean(Raju,John)\n",
    "\n",
    "# Normalize to similarity range[0,1]\n",
    "euclidean_similarity = 1/(1+ euclidean_distance)\n",
    "print(f\"Euclidean Distance Similary:{euclidean_similarity:.4f}\")"
   ]
  },
  {
   "cell_type": "code",
   "execution_count": 12,
   "metadata": {},
   "outputs": [
    {
     "name": "stdout",
     "output_type": "stream",
     "text": [
      "Cosine Similary:0.9783\n",
      "Pearson Correlation Similary:0.8386\n",
      "Euclidean Distance Similary:0.3660\n"
     ]
    }
   ],
   "source": [
    "Raju=np.array([5,3,4,4,2])\n",
    "Ramya=np.array([4,3,4,5,1])\n",
    "\n",
    "cosine_similarity=1 - cosine(Raju,Ramya)\n",
    "print(f\"Cosine Similary:{cosine_similarity:.4f}\")\n",
    "\n",
    "pearson_corr,_=  pearsonr(Raju,Ramya)\n",
    "print(f\"Pearson Correlation Similary:{pearson_corr:.4f}\")\n",
    "\n",
    "euclidean_distance = euclidean(Raju,Ramya)\n",
    "\n",
    "# Normalize to similarity range[0,1]\n",
    "euclidean_similarity = 1/(1+ euclidean_distance)\n",
    "print(f\"Euclidean Distance Similary:{euclidean_similarity:.4f}\")"
   ]
  },
  {
   "cell_type": "code",
   "execution_count": 13,
   "metadata": {},
   "outputs": [
    {
     "name": "stdout",
     "output_type": "stream",
     "text": [
      "Cosine Similary:0.8741\n",
      "Pearson Correlation Similary:-0.4193\n",
      "Euclidean Distance Similary:0.1791\n"
     ]
    }
   ],
   "source": [
    "Raju=np.array([5,3,4,4,2])\n",
    "Kishore=np.array([2,2,1,3,3])\n",
    "\n",
    "cosine_similarity=1 - cosine(Raju,Kishore)\n",
    "print(f\"Cosine Similary:{cosine_similarity:.4f}\")\n",
    "\n",
    "pearson_corr,_=  pearsonr(Raju,Kishore)\n",
    "print(f\"Pearson Correlation Similary:{pearson_corr:.4f}\")\n",
    "\n",
    "euclidean_distance = euclidean(Raju,Kishore)\n",
    "\n",
    "# Normalize to similarity range[0,1]\n",
    "euclidean_similarity = 1/(1+ euclidean_distance)\n",
    "print(f\"Euclidean Distance Similary:{euclidean_similarity:.4f}\")"
   ]
  },
  {
   "cell_type": "code",
   "execution_count": 14,
   "metadata": {},
   "outputs": [
    {
     "name": "stdout",
     "output_type": "stream",
     "text": [
      "Cosine Similary:0.8855\n",
      "Pearson Correlation Similary:0.0369\n",
      "Euclidean Distance Similary:0.1952\n"
     ]
    }
   ],
   "source": [
    "John=np.array([3,1,2,3,3])\n",
    "Ramya=np.array([4,3,4,5,1])\n",
    "\n",
    "cosine_similarity=1 - cosine(John,Ramya)\n",
    "print(f\"Cosine Similary:{cosine_similarity:.4f}\")\n",
    "\n",
    "pearson_corr,_=  pearsonr(John,Ramya)\n",
    "print(f\"Pearson Correlation Similary:{pearson_corr:.4f}\")\n",
    "\n",
    "euclidean_distance = euclidean(John,Ramya)\n",
    "\n",
    "# Normalize to similarity range[0,1]\n",
    "euclidean_similarity = 1/(1+ euclidean_distance)\n",
    "print(f\"Euclidean Distance Similary:{euclidean_similarity:.4f}\")"
   ]
  },
  {
   "cell_type": "code",
   "execution_count": 15,
   "metadata": {},
   "outputs": [
    {
     "name": "stdout",
     "output_type": "stream",
     "text": [
      "Cosine Similary:0.9526\n",
      "Pearson Correlation Similary:0.5345\n",
      "Euclidean Distance Similary:0.3660\n"
     ]
    }
   ],
   "source": [
    "John=np.array([3,1,2,3,3])\n",
    "Kishore=np.array([2,2,1,3,3])\n",
    "\n",
    "cosine_similarity=1 - cosine(John,Kishore)\n",
    "print(f\"Cosine Similary:{cosine_similarity:.4f}\")\n",
    "\n",
    "pearson_corr,_=  pearsonr(John,Kishore)\n",
    "print(f\"Pearson Correlation Similary:{pearson_corr:.4f}\")\n",
    "\n",
    "euclidean_distance = euclidean(John,Kishore)\n",
    "\n",
    "# Normalize to similarity range[0,1]\n",
    "euclidean_similarity = 1/(1+ euclidean_distance)\n",
    "print(f\"Euclidean Distance Similary:{euclidean_similarity:.4f}\")"
   ]
  },
  {
   "cell_type": "code",
   "execution_count": 18,
   "metadata": {},
   "outputs": [
    {
     "name": "stdout",
     "output_type": "stream",
     "text": [
      "         Bahubali  Mufasa  Interstellar  RRR  Mrs\n",
      "Raju            5       3             4    4    2\n",
      "John            3       1             2    3    3\n",
      "Ramya           4       3             4    5    1\n",
      "Kishore         2       2             1    2    4\n",
      "  User 1   User 2  Cosine Similarity  Pearson Correlation  \\\n",
      "0   Raju     John           0.929670             0.196116   \n",
      "1   Raju    Ramya           0.978337             0.838557   \n",
      "2   Raju  Kishore           0.799014            -0.720577   \n",
      "3   John    Ramya           0.885465             0.036860   \n",
      "4   John  Kishore           0.919145             0.408248   \n",
      "5  Ramya  Kishore           0.725961            -0.812605   \n",
      "\n",
      "   Euclidean Similarity  \n",
      "0              0.210897  \n",
      "1              0.366025  \n",
      "2              0.161390  \n",
      "3              0.195194  \n",
      "4              0.309017  \n",
      "5              0.150221  \n"
     ]
    }
   ],
   "source": [
    "import numpy as np\n",
    "import pandas as pd\n",
    "from scipy.spatial.distance import cosine, euclidean\n",
    "from scipy.stats import pearsonr\n",
    "\n",
    "#User-item rating matrix for 4 users\n",
    "ratings = np.array([\n",
    "    [5, 3, 4, 4, 2],  # Raju\n",
    "    [3, 1, 2, 3, 3],  # John\n",
    "    [4, 3, 4, 5, 1],  # Ramya\n",
    "    [2, 2, 1, 2, 4]   # Kishore\n",
    "])\n",
    "\n",
    "users = [\"Raju\", \"John\", \"Ramya\", \"Kishore\"]\n",
    "df = pd.DataFrame(ratings, index=users, columns=[\"Bahubali\",\"Mufasa\",\"Interstellar\",\"RRR\",\"Mrs\"])\n",
    "print(df)\n",
    "\n",
    "# Function to compute similarity\n",
    "def compute_similarity(df):\n",
    "    num_users = df.shape[0]\n",
    "    similarity_results = []\n",
    "\n",
    "    for i in range(num_users):\n",
    "        for j in range(i + 1, num_users):  # Avoid redundant pairs\n",
    "            user1, user2 = df.iloc[i], df.iloc[j]\n",
    "\n",
    "            # Cosine Similarity\n",
    "            cos_sim = 1 - cosine(user1, user2)\n",
    "\n",
    "            # Pearson Correlation Similarity\n",
    "            pearson_sim, _ = pearsonr(user1, user2)\n",
    "\n",
    "            # Euclidean Distance Similarity\n",
    "            euc_dist = euclidean(user1, user2)\n",
    "            euc_sim = 1 / (1 + euc_dist)  # Normalize to [0,1]\n",
    "\n",
    "            similarity_results.append([users[i], users[j], cos_sim, pearson_sim, euc_sim])\n",
    "\n",
    "    return pd.DataFrame(similarity_results, columns=[\"User 1\", \"User 2\", \"Cosine Similarity\", \"Pearson Correlation\", \"Euclidean Similarity\"])\n",
    "\n",
    "# Compute similarity matrix\n",
    "similarity_df = compute_similarity(df)\n",
    "\n",
    "# Display results\n",
    "print(similarity_df)"
   ]
  },
  {
   "cell_type": "code",
   "execution_count": 19,
   "metadata": {},
   "outputs": [],
   "source": []
  },
  {
   "cell_type": "code",
   "execution_count": null,
   "metadata": {},
   "outputs": [],
   "source": []
  }
 ],
 "metadata": {
  "kernelspec": {
   "display_name": "Python 3",
   "language": "python",
   "name": "python3"
  },
  "language_info": {
   "codemirror_mode": {
    "name": "ipython",
    "version": 3
   },
   "file_extension": ".py",
   "mimetype": "text/x-python",
   "name": "python",
   "nbconvert_exporter": "python",
   "pygments_lexer": "ipython3",
   "version": "3.8.5"
  }
 },
 "nbformat": 4,
 "nbformat_minor": 4
}
